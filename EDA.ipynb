{
 "cells": [
  {
   "cell_type": "code",
   "execution_count": 1,
   "metadata": {},
   "outputs": [],
   "source": [
    "import pandas as pd\n",
    "\n",
    "train = pd.read_excel('Data/train.xlsx')\n",
    "test = pd.read_excel('Data/test.xlsx')"
   ]
  },
  {
   "cell_type": "code",
   "execution_count": 2,
   "metadata": {},
   "outputs": [
    {
     "name": "stdout",
     "output_type": "stream",
     "text": [
      "(47883, 224)\n"
     ]
    },
    {
     "data": {
      "text/html": [
       "<div>\n",
       "<style scoped>\n",
       "    .dataframe tbody tr th:only-of-type {\n",
       "        vertical-align: middle;\n",
       "    }\n",
       "\n",
       "    .dataframe tbody tr th {\n",
       "        vertical-align: top;\n",
       "    }\n",
       "\n",
       "    .dataframe thead th {\n",
       "        text-align: right;\n",
       "    }\n",
       "</style>\n",
       "<table border=\"1\" class=\"dataframe\">\n",
       "  <thead>\n",
       "    <tr style=\"text-align: right;\">\n",
       "      <th></th>\n",
       "      <th>ID</th>\n",
       "      <th>PROSPECT_FLAG</th>\n",
       "      <th>GENDER</th>\n",
       "      <th>AGE</th>\n",
       "      <th>RELATIONSHIP</th>\n",
       "      <th>DEPENDENTS_NUM</th>\n",
       "      <th>EDUCATION_TYPE</th>\n",
       "      <th>REMOV_REG</th>\n",
       "      <th>PREFERRED_LANGUAGE</th>\n",
       "      <th>SALARY</th>\n",
       "      <th>...</th>\n",
       "      <th>VERIF_MOBILE_SIGN</th>\n",
       "      <th>VERIF_MOBILE_SIGN_3M</th>\n",
       "      <th>VERIF_DAYS_DIFF</th>\n",
       "      <th>CONFIRM_MOBILE_SIGN</th>\n",
       "      <th>KDN_NEW_TOTAL</th>\n",
       "      <th>KDN_NEW_PURE</th>\n",
       "      <th>KDN_NEW_DEDUCTIONS</th>\n",
       "      <th>REFIN_ACT_FLAG</th>\n",
       "      <th>MONTHLY_PMT_NOW</th>\n",
       "      <th>DAYS_FROM_LAST_TB_CALL</th>\n",
       "    </tr>\n",
       "  </thead>\n",
       "  <tbody>\n",
       "    <tr>\n",
       "      <th>0</th>\n",
       "      <td>1</td>\n",
       "      <td>0</td>\n",
       "      <td>F</td>\n",
       "      <td>40</td>\n",
       "      <td>3</td>\n",
       "      <td>0.0</td>\n",
       "      <td>5</td>\n",
       "      <td>0</td>\n",
       "      <td>RUS</td>\n",
       "      <td>100000.0</td>\n",
       "      <td>...</td>\n",
       "      <td>NaN</td>\n",
       "      <td>NaN</td>\n",
       "      <td>NaN</td>\n",
       "      <td>NaN</td>\n",
       "      <td>NaN</td>\n",
       "      <td>NaN</td>\n",
       "      <td>NaN</td>\n",
       "      <td>NaN</td>\n",
       "      <td>NaN</td>\n",
       "      <td>NaN</td>\n",
       "    </tr>\n",
       "    <tr>\n",
       "      <th>1</th>\n",
       "      <td>2</td>\n",
       "      <td>0</td>\n",
       "      <td>F</td>\n",
       "      <td>45</td>\n",
       "      <td>2</td>\n",
       "      <td>0.0</td>\n",
       "      <td>3</td>\n",
       "      <td>0</td>\n",
       "      <td>KAZ</td>\n",
       "      <td>100000.0</td>\n",
       "      <td>...</td>\n",
       "      <td>NaN</td>\n",
       "      <td>NaN</td>\n",
       "      <td>NaN</td>\n",
       "      <td>NaN</td>\n",
       "      <td>NaN</td>\n",
       "      <td>NaN</td>\n",
       "      <td>NaN</td>\n",
       "      <td>NaN</td>\n",
       "      <td>NaN</td>\n",
       "      <td>NaN</td>\n",
       "    </tr>\n",
       "    <tr>\n",
       "      <th>2</th>\n",
       "      <td>5</td>\n",
       "      <td>0</td>\n",
       "      <td>F</td>\n",
       "      <td>35</td>\n",
       "      <td>2</td>\n",
       "      <td>NaN</td>\n",
       "      <td>3</td>\n",
       "      <td>0</td>\n",
       "      <td>RUS</td>\n",
       "      <td>200000.0</td>\n",
       "      <td>...</td>\n",
       "      <td>NaN</td>\n",
       "      <td>NaN</td>\n",
       "      <td>NaN</td>\n",
       "      <td>NaN</td>\n",
       "      <td>NaN</td>\n",
       "      <td>NaN</td>\n",
       "      <td>NaN</td>\n",
       "      <td>NaN</td>\n",
       "      <td>NaN</td>\n",
       "      <td>NaN</td>\n",
       "    </tr>\n",
       "    <tr>\n",
       "      <th>3</th>\n",
       "      <td>7</td>\n",
       "      <td>0</td>\n",
       "      <td>F</td>\n",
       "      <td>36</td>\n",
       "      <td>1</td>\n",
       "      <td>0.0</td>\n",
       "      <td>5</td>\n",
       "      <td>0</td>\n",
       "      <td>RUS</td>\n",
       "      <td>100000.0</td>\n",
       "      <td>...</td>\n",
       "      <td>NaN</td>\n",
       "      <td>NaN</td>\n",
       "      <td>NaN</td>\n",
       "      <td>NaN</td>\n",
       "      <td>NaN</td>\n",
       "      <td>NaN</td>\n",
       "      <td>NaN</td>\n",
       "      <td>NaN</td>\n",
       "      <td>NaN</td>\n",
       "      <td>NaN</td>\n",
       "    </tr>\n",
       "    <tr>\n",
       "      <th>4</th>\n",
       "      <td>11</td>\n",
       "      <td>0</td>\n",
       "      <td>F</td>\n",
       "      <td>56</td>\n",
       "      <td>2</td>\n",
       "      <td>0.0</td>\n",
       "      <td>5</td>\n",
       "      <td>0</td>\n",
       "      <td>RUS</td>\n",
       "      <td>160000.0</td>\n",
       "      <td>...</td>\n",
       "      <td>NaN</td>\n",
       "      <td>NaN</td>\n",
       "      <td>NaN</td>\n",
       "      <td>NaN</td>\n",
       "      <td>NaN</td>\n",
       "      <td>NaN</td>\n",
       "      <td>NaN</td>\n",
       "      <td>NaN</td>\n",
       "      <td>NaN</td>\n",
       "      <td>NaN</td>\n",
       "    </tr>\n",
       "  </tbody>\n",
       "</table>\n",
       "<p>5 rows × 224 columns</p>\n",
       "</div>"
      ],
      "text/plain": [
       "   ID  PROSPECT_FLAG GENDER  AGE  RELATIONSHIP  DEPENDENTS_NUM  \\\n",
       "0   1              0      F   40             3             0.0   \n",
       "1   2              0      F   45             2             0.0   \n",
       "2   5              0      F   35             2             NaN   \n",
       "3   7              0      F   36             1             0.0   \n",
       "4  11              0      F   56             2             0.0   \n",
       "\n",
       "   EDUCATION_TYPE  REMOV_REG PREFERRED_LANGUAGE    SALARY  \\\n",
       "0               5          0                RUS  100000.0   \n",
       "1               3          0                KAZ  100000.0   \n",
       "2               3          0                RUS  200000.0   \n",
       "3               5          0                RUS  100000.0   \n",
       "4               5          0                RUS  160000.0   \n",
       "\n",
       "            ...            VERIF_MOBILE_SIGN  VERIF_MOBILE_SIGN_3M  \\\n",
       "0           ...                          NaN                   NaN   \n",
       "1           ...                          NaN                   NaN   \n",
       "2           ...                          NaN                   NaN   \n",
       "3           ...                          NaN                   NaN   \n",
       "4           ...                          NaN                   NaN   \n",
       "\n",
       "   VERIF_DAYS_DIFF  CONFIRM_MOBILE_SIGN  KDN_NEW_TOTAL  KDN_NEW_PURE  \\\n",
       "0              NaN                  NaN            NaN           NaN   \n",
       "1              NaN                  NaN            NaN           NaN   \n",
       "2              NaN                  NaN            NaN           NaN   \n",
       "3              NaN                  NaN            NaN           NaN   \n",
       "4              NaN                  NaN            NaN           NaN   \n",
       "\n",
       "   KDN_NEW_DEDUCTIONS  REFIN_ACT_FLAG  MONTHLY_PMT_NOW  DAYS_FROM_LAST_TB_CALL  \n",
       "0                 NaN             NaN              NaN                     NaN  \n",
       "1                 NaN             NaN              NaN                     NaN  \n",
       "2                 NaN             NaN              NaN                     NaN  \n",
       "3                 NaN             NaN              NaN                     NaN  \n",
       "4                 NaN             NaN              NaN                     NaN  \n",
       "\n",
       "[5 rows x 224 columns]"
      ]
     },
     "execution_count": 2,
     "metadata": {},
     "output_type": "execute_result"
    }
   ],
   "source": [
    "print(test.shape)\n",
    "test.head()"
   ]
  },
  {
   "cell_type": "code",
   "execution_count": 3,
   "metadata": {},
   "outputs": [
    {
     "name": "stdout",
     "output_type": "stream",
     "text": [
      "(62123, 225)\n"
     ]
    },
    {
     "data": {
      "text/html": [
       "<div>\n",
       "<style scoped>\n",
       "    .dataframe tbody tr th:only-of-type {\n",
       "        vertical-align: middle;\n",
       "    }\n",
       "\n",
       "    .dataframe tbody tr th {\n",
       "        vertical-align: top;\n",
       "    }\n",
       "\n",
       "    .dataframe thead th {\n",
       "        text-align: right;\n",
       "    }\n",
       "</style>\n",
       "<table border=\"1\" class=\"dataframe\">\n",
       "  <thead>\n",
       "    <tr style=\"text-align: right;\">\n",
       "      <th></th>\n",
       "      <th>ID</th>\n",
       "      <th>TARGET</th>\n",
       "      <th>PROSPECT_FLAG</th>\n",
       "      <th>GENDER</th>\n",
       "      <th>AGE</th>\n",
       "      <th>RELATIONSHIP</th>\n",
       "      <th>DEPENDENTS_NUM</th>\n",
       "      <th>EDUCATION_TYPE</th>\n",
       "      <th>REMOV_REG</th>\n",
       "      <th>PREFERRED_LANGUAGE</th>\n",
       "      <th>...</th>\n",
       "      <th>VERIF_MOBILE_SIGN</th>\n",
       "      <th>VERIF_MOBILE_SIGN_3M</th>\n",
       "      <th>VERIF_DAYS_DIFF</th>\n",
       "      <th>CONFIRM_MOBILE_SIGN</th>\n",
       "      <th>KDN_NEW_TOTAL</th>\n",
       "      <th>KDN_NEW_PURE</th>\n",
       "      <th>KDN_NEW_DEDUCTIONS</th>\n",
       "      <th>REFIN_ACT_FLAG</th>\n",
       "      <th>MONTHLY_PMT_NOW</th>\n",
       "      <th>DAYS_FROM_LAST_TB_CALL</th>\n",
       "    </tr>\n",
       "  </thead>\n",
       "  <tbody>\n",
       "    <tr>\n",
       "      <th>0</th>\n",
       "      <td>6</td>\n",
       "      <td>1</td>\n",
       "      <td>0</td>\n",
       "      <td>F</td>\n",
       "      <td>37</td>\n",
       "      <td>1</td>\n",
       "      <td>0.0</td>\n",
       "      <td>3</td>\n",
       "      <td>0</td>\n",
       "      <td>NaN</td>\n",
       "      <td>...</td>\n",
       "      <td>NaN</td>\n",
       "      <td>NaN</td>\n",
       "      <td>NaN</td>\n",
       "      <td>NaN</td>\n",
       "      <td>NaN</td>\n",
       "      <td>NaN</td>\n",
       "      <td>NaN</td>\n",
       "      <td>NaN</td>\n",
       "      <td>NaN</td>\n",
       "      <td>NaN</td>\n",
       "    </tr>\n",
       "    <tr>\n",
       "      <th>1</th>\n",
       "      <td>12</td>\n",
       "      <td>1</td>\n",
       "      <td>0</td>\n",
       "      <td>F</td>\n",
       "      <td>42</td>\n",
       "      <td>2</td>\n",
       "      <td>0.0</td>\n",
       "      <td>5</td>\n",
       "      <td>0</td>\n",
       "      <td>KAZ</td>\n",
       "      <td>...</td>\n",
       "      <td>NaN</td>\n",
       "      <td>NaN</td>\n",
       "      <td>NaN</td>\n",
       "      <td>NaN</td>\n",
       "      <td>NaN</td>\n",
       "      <td>NaN</td>\n",
       "      <td>NaN</td>\n",
       "      <td>NaN</td>\n",
       "      <td>NaN</td>\n",
       "      <td>NaN</td>\n",
       "    </tr>\n",
       "    <tr>\n",
       "      <th>2</th>\n",
       "      <td>13</td>\n",
       "      <td>1</td>\n",
       "      <td>0</td>\n",
       "      <td>F</td>\n",
       "      <td>44</td>\n",
       "      <td>2</td>\n",
       "      <td>NaN</td>\n",
       "      <td>5</td>\n",
       "      <td>0</td>\n",
       "      <td>RUS</td>\n",
       "      <td>...</td>\n",
       "      <td>NaN</td>\n",
       "      <td>NaN</td>\n",
       "      <td>NaN</td>\n",
       "      <td>NaN</td>\n",
       "      <td>NaN</td>\n",
       "      <td>NaN</td>\n",
       "      <td>NaN</td>\n",
       "      <td>NaN</td>\n",
       "      <td>NaN</td>\n",
       "      <td>NaN</td>\n",
       "    </tr>\n",
       "    <tr>\n",
       "      <th>3</th>\n",
       "      <td>27</td>\n",
       "      <td>1</td>\n",
       "      <td>0</td>\n",
       "      <td>F</td>\n",
       "      <td>51</td>\n",
       "      <td>-1</td>\n",
       "      <td>NaN</td>\n",
       "      <td>-1</td>\n",
       "      <td>0</td>\n",
       "      <td>RUS</td>\n",
       "      <td>...</td>\n",
       "      <td>NaN</td>\n",
       "      <td>NaN</td>\n",
       "      <td>NaN</td>\n",
       "      <td>NaN</td>\n",
       "      <td>NaN</td>\n",
       "      <td>NaN</td>\n",
       "      <td>NaN</td>\n",
       "      <td>NaN</td>\n",
       "      <td>NaN</td>\n",
       "      <td>NaN</td>\n",
       "    </tr>\n",
       "    <tr>\n",
       "      <th>4</th>\n",
       "      <td>64</td>\n",
       "      <td>1</td>\n",
       "      <td>0</td>\n",
       "      <td>F</td>\n",
       "      <td>54</td>\n",
       "      <td>3</td>\n",
       "      <td>0.0</td>\n",
       "      <td>5</td>\n",
       "      <td>0</td>\n",
       "      <td>RUS</td>\n",
       "      <td>...</td>\n",
       "      <td>NaN</td>\n",
       "      <td>NaN</td>\n",
       "      <td>NaN</td>\n",
       "      <td>NaN</td>\n",
       "      <td>NaN</td>\n",
       "      <td>NaN</td>\n",
       "      <td>NaN</td>\n",
       "      <td>NaN</td>\n",
       "      <td>NaN</td>\n",
       "      <td>NaN</td>\n",
       "    </tr>\n",
       "  </tbody>\n",
       "</table>\n",
       "<p>5 rows × 225 columns</p>\n",
       "</div>"
      ],
      "text/plain": [
       "   ID  TARGET  PROSPECT_FLAG GENDER  AGE  RELATIONSHIP  DEPENDENTS_NUM  \\\n",
       "0   6       1              0      F   37             1             0.0   \n",
       "1  12       1              0      F   42             2             0.0   \n",
       "2  13       1              0      F   44             2             NaN   \n",
       "3  27       1              0      F   51            -1             NaN   \n",
       "4  64       1              0      F   54             3             0.0   \n",
       "\n",
       "   EDUCATION_TYPE  REMOV_REG PREFERRED_LANGUAGE           ...            \\\n",
       "0               3          0                NaN           ...             \n",
       "1               5          0                KAZ           ...             \n",
       "2               5          0                RUS           ...             \n",
       "3              -1          0                RUS           ...             \n",
       "4               5          0                RUS           ...             \n",
       "\n",
       "   VERIF_MOBILE_SIGN  VERIF_MOBILE_SIGN_3M  VERIF_DAYS_DIFF  \\\n",
       "0                NaN                   NaN              NaN   \n",
       "1                NaN                   NaN              NaN   \n",
       "2                NaN                   NaN              NaN   \n",
       "3                NaN                   NaN              NaN   \n",
       "4                NaN                   NaN              NaN   \n",
       "\n",
       "   CONFIRM_MOBILE_SIGN  KDN_NEW_TOTAL  KDN_NEW_PURE  KDN_NEW_DEDUCTIONS  \\\n",
       "0                  NaN            NaN           NaN                 NaN   \n",
       "1                  NaN            NaN           NaN                 NaN   \n",
       "2                  NaN            NaN           NaN                 NaN   \n",
       "3                  NaN            NaN           NaN                 NaN   \n",
       "4                  NaN            NaN           NaN                 NaN   \n",
       "\n",
       "   REFIN_ACT_FLAG  MONTHLY_PMT_NOW  DAYS_FROM_LAST_TB_CALL  \n",
       "0             NaN              NaN                     NaN  \n",
       "1             NaN              NaN                     NaN  \n",
       "2             NaN              NaN                     NaN  \n",
       "3             NaN              NaN                     NaN  \n",
       "4             NaN              NaN                     NaN  \n",
       "\n",
       "[5 rows x 225 columns]"
      ]
     },
     "execution_count": 3,
     "metadata": {},
     "output_type": "execute_result"
    }
   ],
   "source": [
    "print(train.shape)\n",
    "train.head()"
   ]
  },
  {
   "cell_type": "markdown",
   "metadata": {},
   "source": [
    "<b>Let's explore the target variable</b>\n",
    "\n",
    "We can check the proportion of 1's and 0's in the dataset first"
   ]
  },
  {
   "cell_type": "code",
   "execution_count": 4,
   "metadata": {},
   "outputs": [
    {
     "name": "stdout",
     "output_type": "stream",
     "text": [
      "Number of zeros: 39855\n",
      "Number of ones: 22268\n"
     ]
    }
   ],
   "source": [
    "print('Number of zeros:',len(train[train['TARGET']==0]))\n",
    "print('Number of ones:',len(train[train['TARGET']==1]))"
   ]
  },
  {
   "cell_type": "markdown",
   "metadata": {},
   "source": [
    "<b>Drop columns with the same value and duplicates. Count target variable proportion again</b>\n",
    "\n",
    "We can see that class 1 was oversampled in our train set. We remove duplicate rows for now. Class 0 remained the same."
   ]
  },
  {
   "cell_type": "code",
   "execution_count": 5,
   "metadata": {},
   "outputs": [
    {
     "name": "stdout",
     "output_type": "stream",
     "text": [
      "Number of zeros: 39855\n",
      "Number of ones: 6851\n",
      "Ratio: 0.1466835096133259\n"
     ]
    }
   ],
   "source": [
    "cols_to_drop = [col for col in train.columns if train[col].nunique(dropna=False) == 1]\n",
    "train.drop(cols_to_drop, axis=1, inplace=True)\n",
    "train = train[~train.duplicated()]\n",
    "\n",
    "test.drop(cols_to_drop, axis=1, inplace=True)\n",
    "print('Number of zeros:',len(train[train['TARGET']==0]))\n",
    "print('Number of ones:',len(train[train['TARGET']==1]))\n",
    "print('Ratio:',len(train[train['TARGET']==1])/train.shape[0])"
   ]
  },
  {
   "cell_type": "markdown",
   "metadata": {},
   "source": [
    "<b>Let's deal with missing values</b>"
   ]
  },
  {
   "cell_type": "code",
   "execution_count": 6,
   "metadata": {},
   "outputs": [],
   "source": [
    "def get_percentage_missing(series):\n",
    "    \"\"\" Calculates percentage of NaN values in DataFrame\n",
    "    :param series: Pandas DataFrame object\n",
    "    :return: float\n",
    "    \"\"\"\n",
    "    num = series.isnull().sum()\n",
    "    den = len(series)\n",
    "    return round(num/den, 2)\n"
   ]
  },
  {
   "cell_type": "code",
   "execution_count": 7,
   "metadata": {},
   "outputs": [
    {
     "name": "stdout",
     "output_type": "stream",
     "text": [
      "Deleting Column 'DAYS_FRM_LAST_ACTL_KN_CTR_OPEN': \n",
      "Deleting Column 'DAYS_OFF_EKT_ACTUAL_CONTR_QTY': \n",
      "Deleting Column 'DAYS_ON_EKT_ACTUAL_CONTR_QTY': \n",
      "Deleting Column 'DAYS_AVTO_ACTUAL_CONTR_QTY': \n",
      "Deleting Column 'DAYS_KK_ACTUAL_CONTR_QTY': \n",
      "Deleting Column 'DAYS_TILL_NEXT_CR_CLOSE': \n",
      "Deleting Column 'KK_L30D_TR_QTY': \n",
      "Deleting Column 'KK_L30D_TR_AMT': \n",
      "Deleting Column 'KK_L30D_NON_CASH_TR_QTY': \n",
      "Deleting Column 'KK_L30D_NON_CASH_TR_AMT': \n",
      "Deleting Column 'KK_L90D_TR_QTY': \n",
      "Deleting Column 'KK_L90D_TR_AMT': \n",
      "Deleting Column 'KK_L90D_NON_CASH_TR_QTY': \n",
      "Deleting Column 'KK_L90D_NON_CASH_TR_AMT': \n",
      "Deleting Column 'DAYS_FRM_LST_KK_NO_CASH_TR_90D': \n",
      "Deleting Column 'KASPI_GOLD_L30D_TR_QTY': \n",
      "Deleting Column 'KASPI_GOLD_L30D_TR_AMT': \n",
      "Deleting Column 'KASPI_GOLD_L30D_REFILL_TR_AMT': \n",
      "Deleting Column 'KASPI_GLD_L30D_NON_CASH_TR_QTY': \n",
      "Deleting Column 'KASPI_GLD_L30D_NON_CASH_TR_AMT': \n",
      "Deleting Column 'KASPI_GOLD_L90D_TR_QTY': \n",
      "Deleting Column 'KASPI_GOLD_L90D_TR_AMT': \n",
      "Deleting Column 'KASPI_GOLD_L90D_REFILL_TR_AMT': \n",
      "Deleting Column 'KASPI_GLD_L90D_NON_CASH_TR_QTY': \n",
      "Deleting Column 'KASPI_GLD_L90D_NON_CASH_TR_AMT': \n",
      "Deleting Column 'DAYS_FRM_LST_KASPI_GOLD_TR_90D': \n",
      "Deleting Column 'DAYS_FRM_LST_KG_NO_CASH_TR_90D': \n",
      "Deleting Column 'AVG_APP_AMOUNT_30D': \n",
      "Deleting Column 'AVG_APP_AMOUNT_90D': \n",
      "Deleting Column 'DAYS_OVERDUE_CNT': \n",
      "Deleting Column 'DEP_ACTUAL_CNTR_QTY': \n",
      "Deleting Column 'PREV_CON_DEL_DAYS_MAX': \n",
      "Deleting Column 'KASPIKZ_PMT_QTY_L_MOBILE_180D': \n",
      "Deleting Column 'KASPIKZ_PMT_QTY_OF_DAYS_MOB': \n",
      "Deleting Column 'DECUCTIONS_LST_PMT_SUM': \n",
      "Deleting Column 'DEP_ACTUAL_CNTR_QTY_LCL_CUR': \n",
      "Deleting Column 'DEP_CNTR_QTY': \n",
      "Deleting Column 'DEP_CNTR_QTY_LCL_CUR': \n",
      "Deleting Column 'DEP_CNTR_ACTUAL_SUM_LCL_CUR': \n",
      "Deleting Column 'DEP_CNTR_L30D_SUM_LCL_CUR': \n",
      "Deleting Column 'DEP_CNTR_L90D_SUM_LCL_CUR': \n",
      "Deleting Column 'DAYS_FRM_FRST_ACTUAL_DEP_OPEN': \n",
      "Deleting Column 'DAYS_FRM_LAST_ACTUAL_DEP_OPEN': \n",
      "Deleting Column 'DEP_MAX_AMT': \n",
      "Deleting Column 'DEP_REFILL_L30D_LCL_CUR': \n",
      "Deleting Column 'DEP_SPEND_L30D_LCL_CUR': \n",
      "Deleting Column 'DEP_REFILL_L90D_LCL_CUR': \n",
      "Deleting Column 'DEP_SPEND_L90D_LCL_CUR': \n",
      "Deleting Column 'DATE_FRM_LST_KASPIKZ_PMT': \n",
      "Deleting Column 'KASPIKZ_PMT_QTY_L30D': \n",
      "Deleting Column 'KASPIKZ_PMT_QTY_L90D': \n",
      "Deleting Column 'KASPIKZ_PMT_QTY_L180D': \n",
      "Deleting Column 'KASPIKZ_PMT_AMT_L30D': \n",
      "Deleting Column 'KASPIKZ_PMT_AMT_L90D': \n",
      "Deleting Column 'KASPIKZ_PMT_AMT_L180D': \n",
      "Deleting Column 'DAYS_FRM_LST_KASPIKZ_VISIT': \n",
      "Deleting Column 'DAYS_FRM_FRST_KASPIKZ_VISIT': \n",
      "Deleting Column 'DAYS_FRM_FRST_KASPIKZ_PMT': \n",
      "Deleting Column 'MONTH_WITH_KASPIKZ_VIS_IN_L3M': \n",
      "Deleting Column 'MONTH_WITH_KASPIKZ_PMT_IN_L3M': \n",
      "Deleting Column 'UNIQUE_KASPIKZ_PMT_CAT_IN_L30D': \n",
      "Deleting Column 'UNIQUE_KASPIKZ_PMT_CAT_IN_L90D': \n",
      "Deleting Column 'UNQ_KASPIKZ_PMT_CAT_IN_L180D': \n",
      "Deleting Column 'UNIQUE_KASPIKZ_PMT_CAT': \n",
      "Deleting Column 'DELAY_DAYS_QUANTITY_LEVEL': \n",
      "Deleting Column 'DAYS_WITH_MANAGER_OPER_IN_L30D': \n",
      "Deleting Column 'DAYS_WITH_MANAGER_OPER_IN_L90D': \n",
      "Deleting Column 'BONUS_SPEND_OPER_QTY_L90D': \n",
      "Deleting Column 'DAYS_FROM_LST_BONUS_SPENDING': \n",
      "Deleting Column 'BONUS_SPEND_OPER_QTY_L30D': \n",
      "Deleting Column 'BONUS_SPEND_OPER_AMT_L30D': \n",
      "Deleting Column 'BONUS_AMT_L30D': \n",
      "Deleting Column 'BONUS_SPEND_OPER_AMT_L90D': \n",
      "Deleting Column 'BONUS_AMT_L90D': \n",
      "Deleting Column 'CLIENT_INFO_CHANGE_L30D': \n",
      "Deleting Column 'CLIENT_INFO_CHANGE_L90D': \n",
      "Deleting Column 'CLIENT_INFO_CHANGE_L360D': \n",
      "Deleting Column 'ACT_CREDIT_LIFETIME_MAX': \n",
      "Deleting Column 'CLIENT_CREDIT_LIFETIME': \n",
      "Deleting Column 'DATE_LST_KK_TR_90D': \n",
      "Deleting Column 'KK_UTILIZATION_CUR': \n",
      "Deleting Column 'MAX_DELAY_L30D': \n",
      "Deleting Column 'MAX_DELAY_L90D': \n",
      "Deleting Column 'MAX_DELAY_L180D': \n",
      "Deleting Column 'MAX_TIME_SPENT_ON_DEMAND_90': \n",
      "Deleting Column 'MIN_TIME_SPENT_ON_DEMAND_90': \n",
      "Deleting Column 'KSPKZ_VISIT_MOB_APP_L30D': \n",
      "Deleting Column 'VK': \n",
      "Deleting Column 'FB': \n",
      "Deleting Column 'KRISHA_REG': \n",
      "Deleting Column 'KOLESA_REG': \n"
     ]
    }
   ],
   "source": [
    "# Iterate over columns in DataFrame and delete those with where >30% of the values are null/NaN\n",
    "for name, values in train.iteritems():\n",
    "    if get_percentage_missing(train[name]) > 0.3:\n",
    "        print(\"Deleting Column %r: \" % (name) )\n",
    "        train.drop(name, axis=1, inplace=True)\n",
    "        test.drop(name, axis=1, inplace=True)"
   ]
  },
  {
   "cell_type": "markdown",
   "metadata": {},
   "source": [
    "<b> Let's export df to csv and eyeball data"
   ]
  },
  {
   "cell_type": "code",
   "execution_count": 8,
   "metadata": {},
   "outputs": [],
   "source": [
    "train.to_csv('filtered_data.csv')\n",
    "must_categorical = ['GENDER', 'RELATIONSHIP', 'EDUCATION_TYPE', 'PREFERRED_LANGUAGE', 'STATUS_PKB']\n",
    "maybe_categorical = ['IS_EXISTS_PMT_KASPIKZ_LAST3', 'ACTUAL_KASPI_GOLD_FLAG', 'ZP_KASPI_GOLD_FLAG', 'IS_EXISTS_DEP', 'BONUS_OPERATIONS_FLAG']\n",
    "geo_categorical = ['FST_CONTRACT_CITY', 'LAST_CONTRACT_CITY', 'PROFILE_CITY']"
   ]
  },
  {
   "cell_type": "code",
   "execution_count": 9,
   "metadata": {},
   "outputs": [
    {
     "name": "stdout",
     "output_type": "stream",
     "text": [
      "process categorical columns ...\n"
     ]
    }
   ],
   "source": [
    "from sklearn.preprocessing import LabelEncoder\n",
    "print(\"process categorical columns ...\")\n",
    "\n",
    "for col in must_categorical:\n",
    "    lbl = LabelEncoder()\n",
    "    lbl.fit(list(train[col].values.astype('str')) + list(test[col].values.astype('str')))\n",
    "    train[col] = lbl.transform(list(train[col].values.astype('str')))\n",
    "    test[col] = lbl.transform(list(test[col].values.astype('str')))"
   ]
  },
  {
   "cell_type": "code",
   "execution_count": 10,
   "metadata": {},
   "outputs": [],
   "source": [
    "to_remove_cols = ['DATE_LST_PKB_RQST', 'ID']\n",
    "train.drop(to_remove_cols, axis=1, inplace=True)\n",
    "test.drop(to_remove_cols, axis=1, inplace=True)\n",
    "\n",
    "train.drop(geo_categorical, axis=1, inplace=True)\n",
    "test.drop(geo_categorical, axis=1, inplace=True)"
   ]
  },
  {
   "cell_type": "code",
   "execution_count": 11,
   "metadata": {},
   "outputs": [],
   "source": [
    "train.fillna(0, inplace=True)\n",
    "test.fillna(0, inplace=True)\n",
    "train_Y = train['TARGET']\n",
    "train.drop(['TARGET'], axis=1, inplace=True)\n"
   ]
  },
  {
   "cell_type": "code",
   "execution_count": 55,
   "metadata": {},
   "outputs": [],
   "source": [
    "# import lightgbm as lgb\n",
    "# import numpy as np\n",
    "# train_data = lgb.Dataset(train, label=train_Y)\n",
    "\n",
    "# param = {'num_leaves':50, 'num_trees':15, 'objective':'binary'}\n",
    "# param['metric'] = 'auc'\n",
    "# num_round = 10\n",
    "# lgb.cv(param, train_data, num_round, nfold=5)\n"
   ]
  },
  {
   "cell_type": "code",
   "execution_count": 75,
   "metadata": {},
   "outputs": [
    {
     "name": "stdout",
     "output_type": "stream",
     "text": [
      "model ...\n",
      "Fold: 0\n",
      "total y_train: 37364 1 ytrain: 5480\n",
      "Training until validation scores don't improve for 100 rounds.\n",
      "Early stopping, best iteration is:\n",
      "[125]\ttraining's auc: 0.68044\tvalid_1's auc: 0.599255\n",
      "Fold: 1\n",
      "total y_train: 37365 1 ytrain: 5481\n",
      "Training until validation scores don't improve for 100 rounds.\n",
      "Early stopping, best iteration is:\n",
      "[76]\ttraining's auc: 0.663682\tvalid_1's auc: 0.603664\n",
      "Fold: 2\n",
      "total y_train: 37365 1 ytrain: 5481\n",
      "Training until validation scores don't improve for 100 rounds.\n",
      "Early stopping, best iteration is:\n",
      "[110]\ttraining's auc: 0.67351\tvalid_1's auc: 0.60664\n",
      "Fold: 3\n",
      "total y_train: 37365 1 ytrain: 5481\n",
      "Training until validation scores don't improve for 100 rounds.\n",
      "Early stopping, best iteration is:\n",
      "[120]\ttraining's auc: 0.678172\tvalid_1's auc: 0.609805\n",
      "Fold: 4\n",
      "total y_train: 37365 1 ytrain: 5481\n",
      "Training until validation scores don't improve for 100 rounds.\n",
      "Early stopping, best iteration is:\n",
      "[81]\ttraining's auc: 0.664969\tvalid_1's auc: 0.603503\n"
     ]
    }
   ],
   "source": [
    "from sklearn.model_selection import StratifiedKFold\n",
    "import lightgbm as lgb\n",
    "# \n",
    "params = {    \n",
    "    'learning_rate': 0.15,\n",
    "    'objectvie': 'binary',\n",
    "    'metrics': 'auc',\n",
    "    #'is_unbalance': 'true', # replaced with scale_pos_weight argument\n",
    "    'num_leaves': 7,  # 2^max_depth - 1\n",
    "    'max_depth': 3,  # -1 means no limit\n",
    "    'min_child_samples': 100,  # Minimum number of data need in a child(min_data_in_leaf)\n",
    "    'max_bin': 100,  # Number of bucketed bin for feature values\n",
    "    'subsample': 0.7,  # Subsample ratio of the training instance.\n",
    "    'subsample_freq': 1,  # frequence of subsample, <=0 means no enable\n",
    "    'colsample_bytree': 0.9,  # Subsample ratio of columns when constructing each tree.\n",
    "    'min_child_weight': 0,  # Minimum sum of instance weight(hessian) needed in a child(leaf)\n",
    "    'scale_pos_weight':4 # because training data is extremely unbalanced \n",
    "         }\n",
    "folds = StratifiedKFold(n_splits=5, shuffle=True, random_state=42)\n",
    "\n",
    "NUM_ROUNDS = 20000\n",
    "VERBOSE_EVAL = 500\n",
    "STOP_ROUNDS = 100\n",
    "print(\"model ...\")\n",
    "model = lgb.LGBMClassifier(**params, n_estimators = NUM_ROUNDS, nthread = 4, n_jobs = -1)\n",
    "\n",
    "for fold_n, (train_index, test_index) in enumerate(folds.split(train, train_Y)):\n",
    "    print('Fold:', fold_n)\n",
    "    X_train, X_valid = train.iloc[train_index], train.iloc[test_index]\n",
    "    y_train, y_valid = train_Y.iloc[train_index], train_Y.iloc[test_index]\n",
    "    print('total y_train:', y_train.count(),'1 ytrain:', y_train.sum())\n",
    "    \n",
    "    model.fit(X_train, y_train, \n",
    "            eval_set=[(X_train, y_train), (X_valid, y_valid)], eval_metric='auc',\n",
    "            verbose=VERBOSE_EVAL, early_stopping_rounds=STOP_ROUNDS)\n",
    "    \n",
    "#     y_pred = model.predict(test, num_iteration=model.best_iteration_)\n"
   ]
  },
  {
   "cell_type": "code",
   "execution_count": 76,
   "metadata": {},
   "outputs": [
    {
     "data": {
      "text/plain": [
       "<Figure size 1440x1440 with 0 Axes>"
      ]
     },
     "metadata": {},
     "output_type": "display_data"
    },
    {
     "data": {
      "image/png": "[encoded data removed]",
      "text/plain": [
       "<Figure size 864x1296 with 1 Axes>"
      ]
     },
     "metadata": {
      "needs_background": "light"
     },
     "output_type": "display_data"
    }
   ],
   "source": [
    "import matplotlib.pyplot as plt\n",
    "plt.figure(figsize=(20,20))\n",
    "fig, ax = plt.subplots(figsize=(12,18))\n",
    "lgb.plot_importance(model, max_num_features=50, height=0.8, ax=ax)\n",
    "ax.grid(False)\n",
    "plt.title(\"LightGBM - Feature Importance\", fontsize=20)\n",
    "plt.show()"
   ]
  },
  {
   "cell_type": "code",
   "execution_count": 96,
   "metadata": {},
   "outputs": [
    {
     "name": "stdout",
     "output_type": "stream",
     "text": [
      "sum 211\n",
      "9341\n",
      "sum true: 1370\n"
     ]
    },
    {
     "name": "stderr",
     "output_type": "stream",
     "text": [
      "/home/ligayv/.virtualenvs/gstore-Kw5slCY8/lib/python3.6/site-packages/sklearn/preprocessing/label.py:151: DeprecationWarning: The truth value of an empty array is ambiguous. Returning False, but in future this will result in an error. Use `array.size > 0` to check that an array is not empty.\n",
      "  if diff:\n"
     ]
    },
    {
     "data": {
      "text/plain": [
       "array([0.52869402, 0.35693147, 0.38291105, ..., 0.45753017, 0.50038746,\n",
       "       0.38930936])"
      ]
     },
     "execution_count": 96,
     "metadata": {},
     "output_type": "execute_result"
    }
   ],
   "source": [
    "y_predicted = model.predict(X_valid)\n",
    "sum=0\n",
    "for i in train_predicted:\n",
    "    sum+=i\n",
    "print('sum', sum)\n",
    "print(X_valid.shape[0])\n",
    "print('sum true:', y_valid.sum())\n",
    "y_predicted_proba = model.predict_proba(X_valid)\n"
   ]
  },
  {
   "cell_type": "code",
   "execution_count": 87,
   "metadata": {},
   "outputs": [
    {
     "data": {
      "text/plain": [
       "array([[7050,  921],\n",
       "       [1126,  244]])"
      ]
     },
     "execution_count": 87,
     "metadata": {},
     "output_type": "execute_result"
    }
   ],
   "source": [
    "from sklearn.metrics import confusion_matrix\n",
    "from sklearn.metrics import f1_score\n",
    "from sklearn.metrics import roc_auc_score\n",
    "confusion_matrix(y_valid, y_predicted)"
   ]
  },
  {
   "cell_type": "code",
   "execution_count": 97,
   "metadata": {},
   "outputs": [
    {
     "name": "stdout",
     "output_type": "stream",
     "text": [
      "f1 0.5328660779189813\n",
      "roc_auc_score 0.6035034390175334\n"
     ]
    }
   ],
   "source": [
    "print('f1',f1_score(y_valid, y_predicted, average='macro'))\n",
    "print('roc_auc_score', roc_auc_score(y_valid, y_predicted_proba[:,1]))"
   ]
  },
  {
   "cell_type": "code",
   "execution_count": null,
   "metadata": {},
   "outputs": [],
   "source": []
  }
 ],
 "metadata": {
  "kernelspec": {
   "display_name": "Python 3",
   "language": "python",
   "name": "python3"
  },
  "language_info": {
   "codemirror_mode": {
    "name": "ipython",
    "version": 3
   },
   "file_extension": ".py",
   "mimetype": "text/x-python",
   "name": "python",
   "nbconvert_exporter": "python",
   "pygments_lexer": "ipython3",
   "version": "3.7.4"
  }
 },
 "nbformat": 4,
 "nbformat_minor": 2
}
